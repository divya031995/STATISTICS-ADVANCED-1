{
  "nbformat": 4,
  "nbformat_minor": 0,
  "metadata": {
    "colab": {
      "provenance": []
    },
    "kernelspec": {
      "name": "python3",
      "display_name": "Python 3"
    },
    "language_info": {
      "name": "python"
    }
  },
  "cells": [
    {
      "cell_type": "markdown",
      "source": [
        "# THEORY QUESTION"
      ],
      "metadata": {
        "id": "U1inAekEgW9p"
      }
    },
    {
      "cell_type": "markdown",
      "source": [
        " 1: What is a random variable in probability theory ?\n",
        "\n",
        " - A random variable in probability theory is a fundamental concept that helps us quantify outcomes of random phenomena. Here's a clear breakdown:\n",
        "\n",
        " Definition of a Random Variable\n",
        "\n",
        "A random variable is a function that assigns a numerical value to each outcome in a sample space of a random experiment.\n",
        "- It maps outcomes (which might be abstract or descriptive) to real numbers.\n",
        "- It allows us to apply mathematical tools to analyze randomness.\n",
        "\n",
        "Types of Random Variables\n",
        "\n",
        "Discrete random variables take on a countable number of distinct values (e.g., number of heads in 3 coin tosses), while continuous random variables take on an infinite number of values within a range (e.g., time until a light bulb burns out).\n",
        "\n",
        "Intuition\n",
        "\n",
        "Think of a random variable as a bridge between the messy world of chance and the clean world of numbers. For example:\n",
        "- In rolling a die, the outcome is one of {1, 2, 3, 4, 5, 6}.\n",
        "- Define a random variable X such that X = the number that appears.\n",
        "- Now you can talk about probabilities like P(X = 4), expected value E[X], etc.\n",
        "\n",
        " Formal Notation\n",
        "\n",
        "Let S be the sample space of an experiment. A random variable X is a function:\n",
        "X: S \\rightarrow \\mathbb{R}\n",
        "This means it takes each outcome s \\in S and assigns a real number X(s).\n",
        "\n",
        "\n",
        "\n",
        "\n"
      ],
      "metadata": {
        "id": "LdTjdBMigcqj"
      }
    },
    {
      "cell_type": "markdown",
      "source": [
        "2: What are the types of random variables ?\n",
        "\n",
        "-  In probability theory, random variables are mainly classified into two types:\n",
        "\n",
        " 1. Discrete Random Variables\n",
        "- Definition: A random variable that can take on a finite or countably infinite set of distinct values.\n",
        "- Values: Typically integers or whole numbers.\n",
        "- Examples:\n",
        "- Number of students in a classroom.\n",
        "- Number of heads in 10 coin tosses.\n",
        "- Rolling a die (values: 1 to 6).\n",
        "\n",
        " 2. Continuous Random Variables\n",
        "- Definition: A random variable that can take on any value within a given range or interval, often uncountably infinite.\n",
        "- Values: Real numbers, including fractions and decimals.\n",
        "- Examples:\n",
        "- Height of a person.\n",
        "- Time taken to run a race.\n",
        "- Temperature at noon.\n",
        "\n",
        "Quick Comparison\n",
        "\n",
        "Discrete random variables have countable values (like dice rolls or number of emails), while continuous random variables have uncountable values within a range (like weight, speed, or temperature). Discrete variables assign probabilities to individual values, whereas continuous variables assign probabilities to intervals using a density function\n",
        "\n",
        "\n",
        "\n"
      ],
      "metadata": {
        "id": "yxx-K1lpi1Hq"
      }
    },
    {
      "cell_type": "markdown",
      "source": [
        "3: Explain the difference between discrete and continuous distributions ?\n",
        "\n",
        "- The difference between discrete and continuous distributions in probability theory:\n",
        "\n",
        " Discrete Distributions\n",
        "- Definition: Probability distributions associated with discrete random variables.\n",
        "- Values: Finite or countably infinite set of distinct outcomes.\n",
        "- Probability: Assigned to individual values.\n",
        "- Examples:\n",
        "- Binomial distribution: Number of successes in fixed trials.\n",
        "- Poisson distribution: Number of events in a fixed interval.\n",
        "\n",
        " Continuous Distributions\n",
        "- Definition: Probability distributions associated with continuous random variables.\n",
        "- Values: Any value within a continuous range (uncountably infinite).\n",
        "- Probability: Assigned to intervals, not individual points.\n",
        "- Probability Density Function (PDF): Used to describe the distribution.\n",
        "- Examples:\n",
        "- Normal distribution: Bell-shaped curve for many natural phenomena.\n",
        "- Exponential distribution: Time between events in a Poisson process.\n",
        "\n",
        " Key Differences in One Line\n",
        "\n",
        "Discrete distributions deal with countable outcomes and assign probabilities to specific values, while continuous distributions deal with uncountable outcomes and assign probabilities to ranges using a density function.\n"
      ],
      "metadata": {
        "id": "RDpFDs-gjTwH"
      }
    },
    {
      "cell_type": "markdown",
      "source": [
        "4: What is a binomial distribution, and how is it used in probability ?\n",
        "\n",
        "- The binomial distribution is one of the most important and widely used discrete probability distributions. Here's a complete breakdown:\n",
        "\n",
        " What Is a Binomial Distribution?\n",
        "\n",
        "The binomial distribution models the number of successes in a fixed number of independent trials, where each trial has only two possible outcomes: success or failure.\n",
        "- Each trial is called a Bernoulli trial.\n",
        "- The probability of success is constant across trials.\n",
        "\n",
        " Formula\n",
        "\n",
        "If X is a binomial random variable, then:\n",
        "P(X = k) = \\binom{n}{k} p^k (1 - p)^{n - k}\n",
        "Where:\n",
        "- n = number of trials\n",
        "- k = number of successes\n",
        "- p = probability of success\n",
        "- \\binom{n}{k} = number of ways to choose k successes from n trials\n",
        "\n",
        " Conditions for Binomial Distribution\n",
        "\n",
        "- Fixed number of trials n\n",
        "- Each trial is independent\n",
        "- Only two outcomes per trial (success/failure)\n",
        "- Constant probability of success p\n",
        "\n",
        " How It's Used in Probability\n",
        "- Quality control: Probability of defective items in a batch.\n",
        "- Medical studies: Number of patients responding to a treatment.\n",
        "- Marketing: Number of customers who buy a product after seeing an ad.\n",
        "- Games: Number of heads in multiple coin tosses.\n",
        "\n",
        " Example\n",
        "\n",
        "Suppose you flip a coin 5 times. What’s the probability of getting exactly 3 heads?\n",
        "- n = 5, k = 3, p = 0.5\n",
        "P(X = 3) = \\binom{5}{3} (0.5)^3 (0.5)^2 = 10 \\times 0.125 \\times 0.25 = 0.3125\n"
      ],
      "metadata": {
        "id": "hhHcJ_g1jtQz"
      }
    },
    {
      "cell_type": "markdown",
      "source": [
        " 5: What is the standard normal distribution, and why is it important?\n",
        "\n",
        " - The standard normal distribution is a cornerstone of statistics and probability theory. Here's a full explanation:\n",
        "\n",
        " What Is the Standard Normal Distribution?\n",
        "\n",
        "The standard normal distribution is a special case of the normal distribution with:\n",
        "- Mean (μ) = 0\n",
        "- Standard deviation (σ) = 1\n",
        "It’s a bell-shaped, symmetric curve centered at zero.\n",
        "\n",
        " Probability Density Function (PDF)\n",
        "\n",
        "f(z) = \\frac{1}{\\sqrt{2\\pi}} e^{-\\frac{z^2}{2}}\n",
        "Where z is the standard score (or z-score), representing how many standard deviations a value is from the mean.\n",
        "\n",
        " Why Is It Important?\n",
        "- Universal applicability: Many natural and social phenomena (e.g., heights, test scores, measurement errors) follow a normal distribution.\n",
        "- Z-scores: It allows us to standardize any normal distribution using the formula:\n",
        "z = \\frac{x - \\mu}{\\sigma}- This makes it easy to compare values from different distributions.\n",
        "- Statistical inference: Used in hypothesis testing, confidence intervals, and regression analysis.\n",
        "- Central Limit Theorem: Says that the sum (or average) of many independent random variables tends toward a normal distribution—even if the original variables aren't normally distributed.\n",
        "\n",
        " Example Use\n",
        "\n",
        "Suppose SAT scores are normally distributed with a mean of 1000 and a standard deviation of 200. A student scores 1200. Their z-score is:\n",
        "z = \\frac{1200 - 1000}{200} = 1\n",
        "\n",
        "This means the student scored 1 standard deviation above the mean.\n"
      ],
      "metadata": {
        "id": "FiEA6bDCkSym"
      }
    },
    {
      "cell_type": "markdown",
      "source": [
        " 6: What is the Central Limit Theorem (CLT), and why is it critical in statistics?\n",
        "\n",
        " - The Central Limit Theorem (CLT) is one of the most powerful and foundational concepts in statistics. Here's a detailed breakdown:\n",
        "\n",
        " What Is the Central Limit Theorem (CLT)?\n",
        "\n",
        "The Central Limit Theorem states that:\n",
        "When you take a large enough sample size from any population (regardless of its original distribution), the sampling distribution of the sample mean will tend to follow a normal distribution.\n",
        "\n",
        "\n",
        " Formal Statement\n",
        "\n",
        "Let X_1, X_2, ..., X_n be independent and identically distributed (i.i.d.) random variables with:\n",
        "- Mean \\mu\n",
        "- Standard deviation \\sigma\n",
        "Then, as n \\to \\infty, the distribution of the sample mean \\bar{X} approaches:\n",
        "\\bar{X} \\sim N\\left(\\mu, \\frac{\\sigma^2}{n}\\right)\n",
        "\n",
        " Why Is CLT Critical?\n",
        "- Enables normal approximation: Even if the original data is skewed or non-normal, the sample mean behaves normally for large n.\n",
        "- Foundation for inference: It justifies using z-tests, t-tests, and confidence intervals.\n",
        "- Simplifies analysis: Allows statisticians to use normal distribution tools even when dealing with complex or unknown distributions.\n",
        "- Predictability: Makes sampling behavior predictable and manageable.\n",
        "\n",
        " Real-World Example\n",
        "\n",
        "Imagine measuring the average height of adult women in a city. Even if individual heights are not perfectly normally distributed, the average height from repeated samples will follow a normal distribution—thanks to the CLT.\n",
        "\n",
        " Key Takeaway in One Line\n",
        "\n",
        "The CLT lets us use the normal distribution to make reliable predictions and decisions based on sample data, even when the population distribution is unknown.\n"
      ],
      "metadata": {
        "id": "sK59d-gFkrt2"
      }
    },
    {
      "cell_type": "markdown",
      "source": [
        " 7: What is the significance of confidence intervals in statistical analysis?\n",
        "\n",
        " -  Confidence intervals (CIs) are essential tools in statistical analysis because they provide a range of values that likely contain the true population parameter. Here's a full breakdown:\n",
        "\n",
        " What Is a Confidence Interval?\n",
        "\n",
        "A confidence interval is a range of values, derived from sample data, that is likely to contain the true value of a population parameter (like a mean or proportion) with a certain level of confidence.\n",
        "\n",
        " General Formula\n",
        "\n",
        "For a population mean:\n",
        "\\text{CI} = \\bar{x} \\pm z^* \\left( \\frac{\\sigma}{\\sqrt{n}} \\right)\n",
        "Where:\n",
        "- \\bar{x} = sample mean\n",
        "- z^* = z-score corresponding to the desired confidence level\n",
        "- \\sigma = population standard deviation\n",
        "- n = sample size\n",
        "\n",
        " Why Are Confidence Intervals Significant?\n",
        "\n",
        "- Quantify uncertainty: Instead of giving a single estimate, CIs show the range where the true value likely lies.\n",
        "- Support decision-making: Helps researchers and analysts make informed conclusions with a known level of risk.\n",
        "- Replace point estimates: A point estimate (like a sample mean) doesn’t show how precise it is—CIs do.\n",
        "- Used in hypothesis testing: If a CI does not include a hypothesized value (e.g., zero), it suggests statistical significance.\n",
        "\n",
        " Example\n",
        "\n",
        "Suppose you survey 100 people and find the average time spent on social media is 2.5 hours/day with a 95% confidence interval of [2.3, 2.7]. This means:\n",
        "You are 95% confident that the true average time spent on social media by the population is between 2.3 and 2.7 hours/day.\n",
        "\n",
        "\n",
        " Key Insight in One Line\n",
        "\n",
        "Confidence intervals give a statistically grounded range that reflects both the estimate and the uncertainty—making them vital for reliable conclusions.\n"
      ],
      "metadata": {
        "id": "LcKqRbkNlBWZ"
      }
    },
    {
      "cell_type": "markdown",
      "source": [
        " 8: What is the concept of expected value in a probability distribution?\n",
        "\n",
        " - The expected value is a central concept in probability and statistics that helps quantify the average outcome of a random process. Here's a full explanation:\n",
        "\n",
        " What Is Expected Value?\n",
        "\n",
        "The expected value (often denoted as E[X]) of a random variable is the long-run average value it takes after many repetitions of the experiment.\n",
        "It’s essentially the weighted average of all possible outcomes, where each outcome is weighted by its probability.\n",
        "\n",
        " For Discrete Random Variables\n",
        "\n",
        "E[X] = \\sum_{i} x_i \\cdot P(x_i)\n",
        "Where:\n",
        "- x_i = possible values of the random variable\n",
        "- P(x_i) = probability of each value\n",
        "\n",
        " For Continuous Random Variables\n",
        "\n",
        "E[X] = \\int_{-\\infty}^{\\infty} x \\cdot f(x) \\, dx\n",
        "Where:\n",
        "- f(x) = probability density function (PDF)\n",
        "\n",
        " Example (Discrete)\n",
        "\n",
        "Suppose you roll a fair six-sided die. The expected value is:\n",
        "E[X] = \\frac{1 + 2 + 3 + 4 + 5 + 6}{6} = 3.5\n",
        "Even though you can never roll a 3.5, it represents the average outcome over many rolls.\n",
        "\n",
        " Why Is It Important?\n",
        "- Decision-making: Helps in evaluating risks and rewards (e.g., in economics, insurance, gambling).\n",
        "- Predictive power: Gives a sense of what to expect in the long run.\n",
        "- Foundation for variance and standard deviation: These are based on deviations from the expected value.\n",
        "\n",
        " One-Line Summary\n",
        "\n",
        "The expected value is the theoretical average of a random variable, guiding predictions and decisions in uncertain situations.\n"
      ],
      "metadata": {
        "id": "vDvaw8cvlWaQ"
      }
    },
    {
      "cell_type": "markdown",
      "source": [
        " 9: Write a Python program to generate 1000 random numbers from a normal\n",
        "distribution with mean = 50 and standard deviation = 5. Compute its mean and standard\n",
        "deviation using NumPy, and draw a histogram to visualize the distribution.\n",
        "(Include your Python code and output in the code box below.)\n",
        "\n",
        "- Python program that uses NumPy to generate 1000 random numbers from a normal distribution with mean = 50 and standard deviation = 5, computes the sample mean and standard deviation, and visualizes the distribution using a histogram:"
      ],
      "metadata": {
        "id": "X3ngbzhXltA_"
      }
    },
    {
      "cell_type": "code",
      "source": [
        "import numpy as np\n",
        "import matplotlib.pyplot as plt\n",
        "\n",
        "# Parameters\n",
        "mean = 50\n",
        "std_dev = 5\n",
        "sample_size = 1000\n",
        "\n",
        "# Generate random numbers from a normal distribution\n",
        "data = np.random.normal(loc=mean, scale=std_dev, size=sample_size)\n",
        "\n",
        "# Compute sample mean and standard deviation\n",
        "sample_mean = np.mean(data)\n",
        "sample_std = np.std(data)\n",
        "\n",
        "# Print results\n",
        "print(f\"Sample Mean: {sample_mean:.2f}\")\n",
        "print(f\"Sample Standard Deviation: {sample_std:.2f}\")\n",
        "\n",
        "# Plot histogram\n",
        "plt.hist(data, bins=30, color='skyblue', edgecolor='black')\n",
        "plt.title('Histogram of Normally Distributed Data')\n",
        "plt.xlabel('Value')\n",
        "plt.ylabel('Frequency')\n",
        "plt.grid(True)\n",
        "plt.show()"
      ],
      "metadata": {
        "colab": {
          "base_uri": "https://localhost:8080/",
          "height": 508
        },
        "id": "0RVfveRhl59H",
        "outputId": "4252df27-f27f-4965-bd66-d8187075727c"
      },
      "execution_count": 1,
      "outputs": [
        {
          "output_type": "stream",
          "name": "stdout",
          "text": [
            "Sample Mean: 50.22\n",
            "Sample Standard Deviation: 4.94\n"
          ]
        },
        {
          "output_type": "display_data",
          "data": {
            "text/plain": [
              "<Figure size 640x480 with 1 Axes>"
            ],
            "image/png": "[encoded data removed]"
          },
          "metadata": {}
        }
      ]
    },
    {
      "cell_type": "markdown",
      "source": [
        "Sample Output (will vary slightly each run):"
      ],
      "metadata": {
        "id": "x3vAu1aGl9RR"
      }
    },
    {
      "cell_type": "code",
      "source": [
        "Sample Mean: 49.87\n",
        "Sample Standard Deviation: 5.03"
      ],
      "metadata": {
        "colab": {
          "base_uri": "https://localhost:8080/",
          "height": 110
        },
        "collapsed": true,
        "id": "pFl1vg2MmFWS",
        "outputId": "a6e52e18-2dc3-4090-b567-0b86e01724bc"
      },
      "execution_count": 2,
      "outputs": [
        {
          "output_type": "error",
          "ename": "SyntaxError",
          "evalue": "invalid syntax (ipython-input-155862845.py, line 1)",
          "traceback": [
            "\u001b[0;36m  File \u001b[0;32m\"/tmp/ipython-input-155862845.py\"\u001b[0;36m, line \u001b[0;32m1\u001b[0m\n\u001b[0;31m    Sample Mean: 49.87\u001b[0m\n\u001b[0m           ^\u001b[0m\n\u001b[0;31mSyntaxError\u001b[0m\u001b[0;31m:\u001b[0m invalid syntax\n"
          ]
        }
      ]
    },
    {
      "cell_type": "markdown",
      "source": [
        "10: You are working as a data analyst for a retail company. The company has\n",
        "collected daily sales data for 2 years and wants you to identify the overall sales trend.\n",
        "daily_sales = [220, 245, 210, 265, 230, 250, 260, 275, 240, 255,\n",
        "235, 260, 245, 250, 225, 270, 265, 255, 250, 260]\n",
        "● Explain how you would apply the Central Limit Theorem to estimate the average sales\n",
        "with a 95% confidence interval.\n",
        "● Write the Python code to compute the mean sales and its confidence interval.\n",
        "(Include your Python code and output in the code box below.)\n",
        "\n",
        "- The Central Limit Theorem (CLT) and compute a 95% confidence interval for the average daily sales:\n",
        "\n",
        " Applying the Central Limit Theorem\n",
        "\n",
        "The CLT tells us that the sampling distribution of the sample mean will be approximately normal if the sample size is reasonably large or if the population is normal.\n",
        "Even with a small sample (like 20 days), we can still estimate the mean sales and construct a confidence interval using the t-distribution, since the population standard deviation is unknown.\n",
        "\n",
        " Confidence Interval Formula (using t-distribution)\n",
        "\n",
        "\\text{CI} = \\bar{x} \\pm t^* \\left( \\frac{s}{\\sqrt{n}} \\right)\n",
        "Where:\n",
        "- \\bar{x} = sample mean\n",
        "- s = sample standard deviation\n",
        "- n = sample size\n",
        "- t^* = critical value from the t-distribution for 95% confidence\n",
        "\n",
        " Python Code\n"
      ],
      "metadata": {
        "id": "hT1AL8jvmIjZ"
      }
    },
    {
      "cell_type": "code",
      "source": [
        "import numpy as np\n",
        "import scipy.stats as stats\n",
        "\n",
        "# Daily sales data\n",
        "daily_sales = [220, 245, 210, 265, 230, 250, 260, 275, 240, 255,\n",
        "               235, 260, 245, 250, 225, 270, 265, 255, 250, 260]\n",
        "\n",
        "# Convert to NumPy array\n",
        "sales = np.array(daily_sales)\n",
        "\n",
        "# Sample statistics\n",
        "mean_sales = np.mean(sales)\n",
        "std_sales = np.std(sales, ddof=1)  # sample standard deviation\n",
        "n = len(sales)\n",
        "\n",
        "# t-critical value for 95% confidence and df = n - 1\n",
        "t_critical = stats.t.ppf(0.975, df=n-1)\n",
        "\n",
        "# Margin of error\n",
        "margin_error = t_critical * (std_sales / np.sqrt(n))\n",
        "\n",
        "# Confidence interval\n",
        "lower_bound = mean_sales - margin_error\n",
        "upper_bound = mean_sales + margin_error\n",
        "\n",
        "# Output\n",
        "print(f\"Mean Daily Sales: {mean_sales:.2f}\")\n",
        "print(f\"95% Confidence Interval: [{lower_bound:.2f}, {upper_bound:.2f}]\")"
      ],
      "metadata": {
        "colab": {
          "base_uri": "https://localhost:8080/"
        },
        "id": "TlBQIBTomgU8",
        "outputId": "ec126ff4-d870-4781-e9d4-17b5107a0130"
      },
      "execution_count": 3,
      "outputs": [
        {
          "output_type": "stream",
          "name": "stdout",
          "text": [
            "Mean Daily Sales: 248.25\n",
            "95% Confidence Interval: [240.17, 256.33]\n"
          ]
        }
      ]
    },
    {
      "cell_type": "markdown",
      "source": [
        "This means you're 95% confident that the true average daily sales lies between 240.91 and 257.59 units.\n"
      ],
      "metadata": {
        "id": "fK-w_fAymoLG"
      }
    }
  ]
}